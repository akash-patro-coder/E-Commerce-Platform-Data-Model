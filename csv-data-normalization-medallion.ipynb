{
 "cells": [
  {
   "cell_type": "code",
   "execution_count": 0,
   "metadata": {
    "application/vnd.databricks.v1+cell": {
     "cellMetadata": {
      "byteLimit": 2048000,
      "implicitDf": true,
      "rowLimit": 10000
     },
     "inputWidgets": {},
     "nuid": "89ee1935-d8a9-4a89-8783-78cbf452feb7",
     "showTitle": false,
     "tableResultSettingsMap": {},
     "title": ""
    }
   },
   "outputs": [],
   "source": [
    "%sql\n",
    "SELECT * FROM Datax.Customers;\n",
    "SELECT * FROM Datax.Products;\n",
    "SELECT * FROM Datax.Orders;\n",
    "SELECT * FROM Datax.Order_Items;\n"
   ]
  },
  {
   "cell_type": "code",
   "execution_count": 0,
   "metadata": {
    "application/vnd.databricks.v1+cell": {
     "cellMetadata": {
      "byteLimit": 2048000,
      "rowLimit": 10000
     },
     "inputWidgets": {},
     "nuid": "8559faa2-0f7d-4db7-a4ce-220d1a40b85a",
     "showTitle": false,
     "tableResultSettingsMap": {},
     "title": ""
    }
   },
   "outputs": [],
   "source": [
    "customers_df = spark.read.csv(\"dbfs:/Workspace/Users/akpatra12345@gmail.com/customers.csv\", header=True, inferSchema=True)\n",
    "products_df = spark.read.csv(\"dbfs:/Workspace/Users/akpatra12345@gmail.com/products.csv\", header=True, inferSchema=True)\n",
    "orders_df = spark.read.csv(\"dbfs:/Workspace/Users/akpatra12345@gmail.com/orders.csv\", header=True, inferSchema=True)\n",
    "order_items_df = spark.read.csv(\"dbfs:/Workspace/Users/akpatra12345@gmail.com/order_items.csv\", header=True, inferSchema=True)\n"
   ]
  },
  {
   "cell_type": "code",
   "execution_count": 0,
   "metadata": {
    "application/vnd.databricks.v1+cell": {
     "cellMetadata": {
      "byteLimit": 2048000,
      "rowLimit": 10000
     },
     "inputWidgets": {},
     "nuid": "9ffd0c73-8466-4b0c-ba12-cc96d7b487dd",
     "showTitle": false,
     "tableResultSettingsMap": {},
     "title": ""
    }
   },
   "outputs": [],
   "source": [
    "customers_df = spark.read.csv(\"dbfs:/Volumes/workspace/datax/my_catalog/customers.csv\", header=True, inferSchema=True)\n",
    "products_df = spark.read.csv(\"dbfs:/Volumes/workspace/datax/my_catalog/products.csv\", header=True, inferSchema=True)\n",
    "orders_df = spark.read.csv(\"dbfs:/Volumes/workspace/datax/my_catalog/orders.csv\", header=True, inferSchema=True)\n",
    "order_items_df = spark.read.csv(\"dbfs:/Volumes/workspace/datax/my_catalog/order_items.csv\", header=True, inferSchema=True)\n"
   ]
  },
  {
   "cell_type": "code",
   "execution_count": 0,
   "metadata": {
    "application/vnd.databricks.v1+cell": {
     "cellMetadata": {
      "byteLimit": 2048000,
      "rowLimit": 10000
     },
     "inputWidgets": {},
     "nuid": "00f64bed-6902-429c-9d98-01b8e66f7be0",
     "showTitle": false,
     "tableResultSettingsMap": {},
     "title": ""
    }
   },
   "outputs": [],
   "source": [
    "dbutils.fs.ls(\"dbfs:/Volumes/workspace/datax/my_catalog\")\n"
   ]
  },
  {
   "cell_type": "code",
   "execution_count": 0,
   "metadata": {
    "application/vnd.databricks.v1+cell": {
     "cellMetadata": {
      "byteLimit": 2048000,
      "rowLimit": 10000
     },
     "inputWidgets": {},
     "nuid": "432d2365-b243-4df4-bac2-427fa6c856ed",
     "showTitle": false,
     "tableResultSettingsMap": {},
     "title": ""
    }
   },
   "outputs": [],
   "source": [
    "# Read CSVs into DataFrames\n",
    "customers_df = spark.read.csv(\"dbfs:/Volumes/workspace/datax/my_catalog/customers.csv\", header=True, inferSchema=True)\n",
    "order_items_df = spark.read.csv(\"dbfs:/Volumes/workspace/datax/my_catalog/order_items.csv\", header=True, inferSchema=True)\n",
    "orders_df = spark.read.csv(\"dbfs:/Volumes/workspace/datax/my_catalog/orders.csv\", header=True, inferSchema=True)\n",
    "products_df = spark.read.csv(\"dbfs:/Volumes/workspace/datax/my_catalog/products.csv\", header=True, inferSchema=True)\n",
    "\n",
    "# Quick check: show few rows\n",
    "customers_df.show(5)\n",
    "orders_df.show(5)\n"
   ]
  },
  {
   "cell_type": "code",
   "execution_count": 0,
   "metadata": {
    "application/vnd.databricks.v1+cell": {
     "cellMetadata": {
      "byteLimit": 2048000,
      "implicitDf": true,
      "rowLimit": 10000
     },
     "inputWidgets": {},
     "nuid": "16f92f44-8705-447e-9230-b9988bafdb50",
     "showTitle": false,
     "tableResultSettingsMap": {},
     "title": ""
    }
   },
   "outputs": [],
   "source": [
    "%sql\n",
    "SELECT * FROM workspace.datax.customers;\n"
   ]
  },
  {
   "cell_type": "code",
   "execution_count": 0,
   "metadata": {
    "application/vnd.databricks.v1+cell": {
     "cellMetadata": {
      "byteLimit": 2048000,
      "rowLimit": 10000
     },
     "inputWidgets": {},
     "nuid": "90475771-08ce-4bbb-914e-fe6451144622",
     "showTitle": false,
     "tableResultSettingsMap": {},
     "title": ""
    }
   },
   "outputs": [],
   "source": [
    "customers_df.write.mode(\"overwrite\").saveAsTable(\"workspace.datax.customers_csv\")\n",
    "orders_df.write.mode(\"overwrite\").saveAsTable(\"workspace.datax.orders_csv\")\n",
    "order_items_df.write.mode(\"overwrite\").saveAsTable(\"workspace.datax.order_items_csv\")\n",
    "products_df.write.mode(\"overwrite\").saveAsTable(\"workspace.datax.products_csv\")\n"
   ]
  },
  {
   "cell_type": "code",
   "execution_count": 0,
   "metadata": {
    "application/vnd.databricks.v1+cell": {
     "cellMetadata": {
      "byteLimit": 2048000,
      "implicitDf": true,
      "rowLimit": 10000
     },
     "inputWidgets": {},
     "nuid": "101a69a5-c9c6-47cd-93d1-9a91a7605917",
     "showTitle": false,
     "tableResultSettingsMap": {},
     "title": ""
    }
   },
   "outputs": [],
   "source": [
    "%sql\n",
    "SHOW TABLES IN workspace.datax;\n"
   ]
  },
  {
   "cell_type": "code",
   "execution_count": 0,
   "metadata": {
    "application/vnd.databricks.v1+cell": {
     "cellMetadata": {
      "byteLimit": 2048000,
      "implicitDf": true,
      "rowLimit": 10000
     },
     "inputWidgets": {},
     "nuid": "821b76f9-edcf-43e6-b63b-9d5ed01ec8bf",
     "showTitle": false,
     "tableResultSettingsMap": {},
     "title": ""
    }
   },
   "outputs": [],
   "source": [
    "%sql\n",
    "SELECT * FROM workspace.datax.customers_csv LIMIT 10;\n",
    "SELECT * FROM workspace.datax.orders_csv LIMIT 10;\n",
    "SELECT * FROM workspace.datax.order_items_csv LIMIT 10;\n",
    "SELECT * FROM workspace.datax.products_csv LIMIT 10;\n"
   ]
  },
  {
   "cell_type": "code",
   "execution_count": 0,
   "metadata": {
    "application/vnd.databricks.v1+cell": {
     "cellMetadata": {
      "byteLimit": 2048000,
      "rowLimit": 10000
     },
     "inputWidgets": {},
     "nuid": "16635f9a-5f7d-4684-8b04-1ec4de88ec5e",
     "showTitle": false,
     "tableResultSettingsMap": {},
     "title": ""
    }
   },
   "outputs": [],
   "source": [
    "silver_customers = (\n",
    "    spark.table(\"workspace.datax.customers_csv\")\n",
    "    .dropDuplicates([\"customer_id\"])\n",
    ")\n",
    "\n",
    "silver_customers.write.mode(\"overwrite\").saveAsTable(\"workspace.datax.customers_silver\")\n"
   ]
  },
  {
   "cell_type": "code",
   "execution_count": 0,
   "metadata": {
    "application/vnd.databricks.v1+cell": {
     "cellMetadata": {
      "byteLimit": 2048000,
      "implicitDf": true,
      "rowLimit": 10000
     },
     "inputWidgets": {},
     "nuid": "564fc942-345f-445b-b063-6c5a72b12569",
     "showTitle": false,
     "tableResultSettingsMap": {},
     "title": ""
    }
   },
   "outputs": [],
   "source": [
    "%sql\n",
    "-- List all tables in your schema\n",
    "SHOW TABLES IN workspace.datax;\n",
    "\n",
    "-- Preview data\n",
    "SELECT * FROM workspace.datax.customers_csv LIMIT 10;\n",
    "SELECT * FROM workspace.datax.orders_csv LIMIT 10;\n",
    "SELECT * FROM workspace.datax.order_items_csv LIMIT 10;\n",
    "SELECT * FROM workspace.datax.products_csv LIMIT 10;\n"
   ]
  },
  {
   "cell_type": "markdown",
   "metadata": {
    "application/vnd.databricks.v1+cell": {
     "cellMetadata": {},
     "inputWidgets": {},
     "nuid": "bac6110b-ce97-431c-a198-5cb9d5571346",
     "showTitle": false,
     "tableResultSettingsMap": {},
     "title": ""
    }
   },
   "source": [
    "#🥈 Created Silver Layer"
   ]
  },
  {
   "cell_type": "code",
   "execution_count": 0,
   "metadata": {
    "application/vnd.databricks.v1+cell": {
     "cellMetadata": {
      "byteLimit": 2048000,
      "rowLimit": 10000
     },
     "inputWidgets": {},
     "nuid": "1b7e5645-d9e4-4a11-9e6c-cd4ed4674b0d",
     "showTitle": false,
     "tableResultSettingsMap": {},
     "title": ""
    }
   },
   "outputs": [],
   "source": [
    "# Customers Silver\n",
    "customers_silver = (\n",
    "    spark.table(\"workspace.datax.customers_csv\")\n",
    "    .dropDuplicates([\"customer_id\"])       # remove duplicates\n",
    "    .na.drop(subset=[\"customer_id\"])       # remove nulls in key\n",
    ")\n",
    "customers_silver.write.mode(\"overwrite\").saveAsTable(\"workspace.datax.customers_silver\")\n",
    "\n",
    "# Orders Silver\n",
    "orders_silver = (\n",
    "    spark.table(\"workspace.datax.orders_csv\")\n",
    "    .dropDuplicates([\"order_id\"])\n",
    "    .na.drop(subset=[\"order_id\"])\n",
    ")\n",
    "orders_silver.write.mode(\"overwrite\").saveAsTable(\"workspace.datax.orders_silver\")\n",
    "\n",
    "# Order Items Silver\n",
    "order_items_silver = (\n",
    "    spark.table(\"workspace.datax.order_items_csv\")\n",
    "    .dropDuplicates([\"order_item_id\"])\n",
    "    .na.drop(subset=[\"order_item_id\"])\n",
    ")\n",
    "order_items_silver.write.mode(\"overwrite\").saveAsTable(\"workspace.datax.order_items_silver\")\n",
    "\n",
    "# Products Silver\n",
    "products_silver = (\n",
    "    spark.table(\"workspace.datax.products_csv\")\n",
    "    .dropDuplicates([\"product_id\"])\n",
    "    .na.drop(subset=[\"product_id\"])\n",
    ")\n",
    "products_silver.write.mode(\"overwrite\").saveAsTable(\"workspace.datax.products_silver\")\n"
   ]
  },
  {
   "cell_type": "code",
   "execution_count": 0,
   "metadata": {
    "application/vnd.databricks.v1+cell": {
     "cellMetadata": {
      "byteLimit": 2048000,
      "implicitDf": true,
      "rowLimit": 10000
     },
     "inputWidgets": {},
     "nuid": "deba6168-6443-46c9-b134-c8895b7232c1",
     "showTitle": false,
     "tableResultSettingsMap": {},
     "title": ""
    }
   },
   "outputs": [],
   "source": [
    "%sql\n",
    "--Describe table details\n",
    "DESCRIBE EXTENDED workspace.datax.customers_silver;\n"
   ]
  },
  {
   "cell_type": "code",
   "execution_count": 0,
   "metadata": {
    "application/vnd.databricks.v1+cell": {
     "cellMetadata": {
      "byteLimit": 2048000,
      "rowLimit": 10000
     },
     "inputWidgets": {},
     "nuid": "3f9f297d-6e50-4a6f-8a04-b789e06c7e23",
     "showTitle": false,
     "tableResultSettingsMap": {},
     "title": ""
    }
   },
   "outputs": [],
   "source": [
    "from pyspark.sql import functions as F\n",
    "\n",
    "# Read Bronze (already saved as tables)\n",
    "customers_bronze = spark.table(\"workspace.datax.customers_csv\")\n",
    "orders_bronze = spark.table(\"workspace.datax.orders_csv\")\n",
    "products_bronze = spark.table(\"workspace.datax.products_csv\")\n",
    "order_items_bronze = spark.table(\"workspace.datax.order_items_csv\")\n",
    "\n",
    "# Example cleaning (you can add more rules)\n",
    "customers_silver = customers_bronze.dropDuplicates([\"email\"]).filter(\"email IS NOT NULL\")\n",
    "orders_silver = orders_bronze.filter(\"status IS NOT NULL\")\n",
    "products_silver = products_bronze.dropDuplicates([\"product_id\"])\n",
    "order_items_silver = order_items_bronze.filter(\"quantity > 0\")\n",
    "\n",
    "# Save as Silver Tables\n",
    "customers_silver.write.mode(\"overwrite\").saveAsTable(\"workspace.datax.customers_silver\")\n",
    "orders_silver.write.mode(\"overwrite\").saveAsTable(\"workspace.datax.orders_silver\")\n",
    "products_silver.write.mode(\"overwrite\").saveAsTable(\"workspace.datax.products_silver\")\n",
    "order_items_silver.write.mode(\"overwrite\").saveAsTable(\"workspace.datax.order_items_silver\")\n"
   ]
  },
  {
   "cell_type": "markdown",
   "metadata": {
    "application/vnd.databricks.v1+cell": {
     "cellMetadata": {},
     "inputWidgets": {},
     "nuid": "3ad5ed86-667b-48e5-83e6-6d73fda3c996",
     "showTitle": false,
     "tableResultSettingsMap": {},
     "title": ""
    }
   },
   "source": [
    "#🥇 Gold Layer"
   ]
  },
  {
   "cell_type": "code",
   "execution_count": 0,
   "metadata": {
    "application/vnd.databricks.v1+cell": {
     "cellMetadata": {
      "byteLimit": 2048000,
      "implicitDf": true,
      "rowLimit": 10000
     },
     "inputWidgets": {},
     "nuid": "9af9441b-122d-44ed-a63f-73f5a33fdd6b",
     "showTitle": false,
     "tableResultSettingsMap": {},
     "title": ""
    }
   },
   "outputs": [],
   "source": [
    "##Total Sales by Product\n",
    "\n",
    "from pyspark.sql import functions as F\n",
    "\n",
    "# Example: total sales by product\n",
    "gold_product_sales = (\n",
    "    spark.table(\"workspace.datax.order_items_silver\").alias(\"oi\")\n",
    "    .join(spark.table(\"workspace.datax.products_silver\").alias(\"p\"),\n",
    "          F.col(\"oi.product_id\") == F.col(\"p.product_id\"))\n",
    "    .groupBy(\"p.product_name\")\n",
    "    .agg(F.sum(F.col(\"oi.quantity\") * F.col(\"p.price\")).alias(\"total_sales\"))\n",
    ")\n",
    "\n",
    "gold_product_sales.show()\n",
    "\n"
   ]
  },
  {
   "cell_type": "code",
   "execution_count": 0,
   "metadata": {
    "application/vnd.databricks.v1+cell": {
     "cellMetadata": {
      "byteLimit": 2048000,
      "rowLimit": 10000
     },
     "inputWidgets": {},
     "nuid": "aa419734-9ced-45ad-992e-86b08f437da5",
     "showTitle": false,
     "tableResultSettingsMap": {},
     "title": ""
    }
   },
   "outputs": [],
   "source": [
    "##2️⃣ Customer Revenue\n",
    "\n",
    "customers = spark.table(\"workspace.datax.customers_silver\").alias(\"c\")\n",
    "orders = spark.table(\"workspace.datax.orders_silver\").alias(\"o\")\n",
    "order_items = spark.table(\"workspace.datax.order_items_silver\").alias(\"oi\")\n",
    "products = spark.table(\"workspace.datax.products_silver\").alias(\"p\")\n",
    "\n",
    "gold_customer_revenue = (\n",
    "    customers\n",
    "    .join(orders, F.col(\"c.customer_id\") == F.col(\"o.customer_id\"))\n",
    "    .join(order_items, F.col(\"o.order_id\") == F.col(\"oi.order_id\"))\n",
    "    .join(products, F.col(\"oi.product_id\") == F.col(\"p.product_id\"))\n",
    "    .groupBy(\"c.first_name\", \"c.last_name\")\n",
    "    .agg(F.sum(F.col(\"oi.quantity\") * F.col(\"p.price\")).alias(\"total_revenue\"))\n",
    ")\n",
    "\n",
    "gold_customer_revenue.write.mode(\"overwrite\").saveAsTable(\"workspace.datax.gold_customer_revenue\")\n",
    "\n",
    "gold_customer_revenue.show()\n"
   ]
  },
  {
   "cell_type": "code",
   "execution_count": 0,
   "metadata": {
    "application/vnd.databricks.v1+cell": {
     "cellMetadata": {
      "byteLimit": 2048000,
      "rowLimit": 10000
     },
     "inputWidgets": {},
     "nuid": "7de1eab6-9af2-4608-9779-8775cccf6f75",
     "showTitle": false,
     "tableResultSettingsMap": {},
     "title": ""
    }
   },
   "outputs": [],
   "source": [
    "##Top Cities by Revenue\n",
    "\n",
    "gold_city_revenue = (\n",
    "    customers\n",
    "    .join(orders, F.col(\"c.customer_id\") == F.col(\"o.customer_id\"))\n",
    "    .join(order_items, F.col(\"o.order_id\") == F.col(\"oi.order_id\"))\n",
    "    .join(products, F.col(\"oi.product_id\") == F.col(\"p.product_id\"))\n",
    "    .groupBy(\"c.city\")\n",
    "    .agg(F.sum(F.col(\"oi.quantity\") * F.col(\"p.price\")).alias(\"total_revenue\"))\n",
    "    .orderBy(F.desc(\"total_revenue\"))\n",
    ")\n",
    "\n",
    "gold_city_revenue.write.mode(\"overwrite\").saveAsTable(\"workspace.datax.gold_city_revenue\")\n",
    "\n",
    "gold_city_revenue.show()"
   ]
  }
 ],
 "metadata": {
  "application/vnd.databricks.v1+notebook": {
   "computePreferences": null,
   "dashboards": [],
   "environmentMetadata": {
    "base_environment": "",
    "environment_version": "3"
   },
   "inputWidgetPreferences": null,
   "language": "python",
   "notebookMetadata": {
    "mostRecentlyExecutedCommandWithImplicitDF": {
     "commandId": -1,
     "dataframes": [
      "_sqldf"
     ]
    },
    "pythonIndentUnit": 4
   },
   "notebookName": "csv-data-normalization-medallion",
   "widgets": {}
  },
  "language_info": {
   "name": "python"
  }
 },
 "nbformat": 4,
 "nbformat_minor": 0
}
