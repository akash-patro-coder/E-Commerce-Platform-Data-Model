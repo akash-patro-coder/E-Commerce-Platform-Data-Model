{
 "cells": [
  {
   "cell_type": "markdown",
   "metadata": {
    "application/vnd.databricks.v1+cell": {
     "cellMetadata": {},
     "inputWidgets": {},
     "nuid": "2e03fe1f-4e74-473b-8b0f-f8c0d224edc3",
     "showTitle": false,
     "tableResultSettingsMap": {},
     "title": ""
    }
   },
   "source": [
    "#📦 E-Commerce Platform Data Model"
   ]
  },
  {
   "cell_type": "markdown",
   "metadata": {
    "application/vnd.databricks.v1+cell": {
     "cellMetadata": {},
     "inputWidgets": {},
     "nuid": "4de2590f-4446-4220-9cd4-eae41768a197",
     "showTitle": false,
     "tableResultSettingsMap": {},
     "title": ""
    }
   },
   "source": [
    "## Entity List\n",
    "\n",
    "Customers\n",
    "\n",
    "Orders\n",
    "\n",
    "Order_Items\n",
    "\n",
    "Products\n",
    "\n",
    "Categories"
   ]
  },
  {
   "cell_type": "markdown",
   "metadata": {
    "application/vnd.databricks.v1+cell": {
     "cellMetadata": {},
     "inputWidgets": {},
     "nuid": "5885abf2-0238-44dc-885b-eb02f86118c4",
     "showTitle": false,
     "tableResultSettingsMap": {},
     "title": ""
    }
   },
   "source": [
    "## Table-wise Attributes"
   ]
  },
  {
   "cell_type": "markdown",
   "metadata": {
    "application/vnd.databricks.v1+cell": {
     "cellMetadata": {},
     "inputWidgets": {},
     "nuid": "43d75227-3d61-4301-a980-34e5ccbf9d19",
     "showTitle": false,
     "tableResultSettingsMap": {},
     "title": ""
    }
   },
   "source": [
    "## Customers\n",
    "\n",
    "customer_id (PK)\n",
    "\n",
    "first_name\n",
    "\n",
    "last_name\n",
    "\n",
    "email\n",
    "\n",
    "phone\n",
    "\n",
    "address\n",
    "\n",
    "city\n",
    "\n",
    "state\n",
    "\n",
    "country\n",
    "\n",
    "created_at"
   ]
  },
  {
   "cell_type": "markdown",
   "metadata": {
    "application/vnd.databricks.v1+cell": {
     "cellMetadata": {},
     "inputWidgets": {},
     "nuid": "b703623a-6da5-4f79-972d-b2411d49fdde",
     "showTitle": false,
     "tableResultSettingsMap": {},
     "title": ""
    }
   },
   "source": [
    "## Orders\n",
    "\n",
    "order_id (PK)\n",
    "\n",
    "customer_id (FK → Customers.customer_id)\n",
    "\n",
    "order_date\n",
    "\n",
    "status (enum: placed, shipped, delivered)\n",
    "\n",
    "total_amount"
   ]
  },
  {
   "cell_type": "markdown",
   "metadata": {
    "application/vnd.databricks.v1+cell": {
     "cellMetadata": {},
     "inputWidgets": {},
     "nuid": "4364e118-b3b9-4c86-8a1d-1169e99acc79",
     "showTitle": false,
     "tableResultSettingsMap": {},
     "title": ""
    }
   },
   "source": [
    "##Order_Items\n",
    "\n",
    "order_item_id (PK)\n",
    "\n",
    "order_id (FK → Orders.order_id)\n",
    "\n",
    "product_id (FK → Products.product_id)\n",
    "\n",
    "quantity\n",
    "\n",
    "unit_price\n",
    "\n",
    "subtotal"
   ]
  },
  {
   "cell_type": "markdown",
   "metadata": {
    "application/vnd.databricks.v1+cell": {
     "cellMetadata": {},
     "inputWidgets": {},
     "nuid": "9cc10491-707f-4205-9427-f5e7ddd0247c",
     "showTitle": false,
     "tableResultSettingsMap": {},
     "title": ""
    }
   },
   "source": [
    "##Products\n",
    "\n",
    "product_id (PK)\n",
    "\n",
    "category_id (FK → Categories.category_id)\n",
    "\n",
    "product_name\n",
    "\n",
    "description\n",
    "\n",
    "price\n",
    "\n",
    "stock_quantity\n",
    "\n",
    "created_at"
   ]
  },
  {
   "cell_type": "markdown",
   "metadata": {
    "application/vnd.databricks.v1+cell": {
     "cellMetadata": {},
     "inputWidgets": {},
     "nuid": "cad5be00-0d61-4c3f-8785-705eb4fec9dd",
     "showTitle": false,
     "tableResultSettingsMap": {},
     "title": ""
    }
   },
   "source": [
    "##Categories\n",
    "\n",
    "category_id (PK)\n",
    "\n",
    "category_name\n",
    "\n",
    "description"
   ]
  },
  {
   "cell_type": "code",
   "execution_count": 0,
   "metadata": {
    "application/vnd.databricks.v1+cell": {
     "cellMetadata": {
      "byteLimit": 2048000,
      "implicitDf": true,
      "rowLimit": 10000
     },
     "inputWidgets": {},
     "nuid": "71366db8-8685-46e0-83ef-f728d8b97b3f",
     "showTitle": false,
     "tableResultSettingsMap": {},
     "title": ""
    }
   },
   "outputs": [],
   "source": [
    "%sql\n",
    "-- Switch context to Datax database\n",
    "USE Datax;\n"
   ]
  },
  {
   "cell_type": "code",
   "execution_count": 0,
   "metadata": {
    "application/vnd.databricks.v1+cell": {
     "cellMetadata": {
      "byteLimit": 2048000,
      "implicitDf": true,
      "rowLimit": 10000
     },
     "inputWidgets": {},
     "nuid": "88fd9d10-8109-463c-8a9d-682e4217896a",
     "showTitle": false,
     "tableResultSettingsMap": {},
     "title": ""
    }
   },
   "outputs": [],
   "source": [
    "%sql\n",
    "\n",
    "--creating table customers\n",
    "\n",
    "CREATE TABLE IF NOT EXISTS Datax.Customers (\n",
    "    customer_id BIGINT GENERATED ALWAYS AS IDENTITY PRIMARY KEY,\n",
    "    first_name STRING,\n",
    "    last_name STRING,\n",
    "    email STRING,\n",
    "    phone STRING,\n",
    "    address STRING,\n",
    "    city STRING,\n",
    "    state STRING,\n",
    "    country STRING,\n",
    "    created_at TIMESTAMP\n",
    ");\n"
   ]
  },
  {
   "cell_type": "code",
   "execution_count": 0,
   "metadata": {
    "application/vnd.databricks.v1+cell": {
     "cellMetadata": {
      "byteLimit": 2048000,
      "implicitDf": true,
      "rowLimit": 10000
     },
     "inputWidgets": {},
     "nuid": "22c1869d-7951-446e-ae67-76a6f17825d8",
     "showTitle": false,
     "tableResultSettingsMap": {},
     "title": ""
    }
   },
   "outputs": [],
   "source": [
    "%sql\n",
    "--Creating categories table\n",
    "\n",
    "CREATE TABLE IF NOT EXISTS Datax.Categories (\n",
    "    category_id BIGINT GENERATED ALWAYS AS IDENTITY PRIMARY KEY,\n",
    "    category_name STRING NOT NULL,\n",
    "    description STRING\n",
    ");\n"
   ]
  },
  {
   "cell_type": "code",
   "execution_count": 0,
   "metadata": {
    "application/vnd.databricks.v1+cell": {
     "cellMetadata": {
      "byteLimit": 2048000,
      "implicitDf": true,
      "rowLimit": 10000
     },
     "inputWidgets": {},
     "nuid": "04a1aa6c-d91f-4908-8589-2337bb727d21",
     "showTitle": false,
     "tableResultSettingsMap": {},
     "title": ""
    }
   },
   "outputs": [],
   "source": [
    "%sql\n",
    "--Creating products table\n",
    "\n",
    "CREATE TABLE IF NOT EXISTS Datax.Products (\n",
    "    product_id BIGINT GENERATED ALWAYS AS IDENTITY PRIMARY KEY,\n",
    "    category_id BIGINT NOT NULL,\n",
    "    product_name STRING NOT NULL,\n",
    "    description STRING,\n",
    "    price DECIMAL(10,2) NOT NULL,\n",
    "    stock_quantity INT,\n",
    "    created_at TIMESTAMP,\n",
    "    FOREIGN KEY (category_id) REFERENCES Datax.Categories(category_id)\n",
    ");\n"
   ]
  },
  {
   "cell_type": "code",
   "execution_count": 0,
   "metadata": {
    "application/vnd.databricks.v1+cell": {
     "cellMetadata": {
      "byteLimit": 2048000,
      "implicitDf": true,
      "rowLimit": 10000
     },
     "inputWidgets": {},
     "nuid": "b3be9c51-69ea-4987-8056-37f79fdb506e",
     "showTitle": false,
     "tableResultSettingsMap": {},
     "title": ""
    }
   },
   "outputs": [],
   "source": [
    "%sql\n",
    "--Creating orders table\n",
    "\n",
    "CREATE TABLE IF NOT EXISTS Datax.Orders (\n",
    "    order_id BIGINT GENERATED ALWAYS AS IDENTITY PRIMARY KEY,\n",
    "    customer_id BIGINT NOT NULL,\n",
    "    order_date TIMESTAMP,\n",
    "    status STRING, -- values: 'placed', 'shipped', 'delivered'\n",
    "    total_amount DECIMAL(10,2),\n",
    "    FOREIGN KEY (customer_id) REFERENCES Datax.Customers(customer_id)\n",
    ");\n"
   ]
  },
  {
   "cell_type": "code",
   "execution_count": 0,
   "metadata": {
    "application/vnd.databricks.v1+cell": {
     "cellMetadata": {
      "byteLimit": 2048000,
      "implicitDf": true,
      "rowLimit": 10000
     },
     "inputWidgets": {},
     "nuid": "2f5fed5e-ea03-4c99-9f88-132ee9b9936c",
     "showTitle": false,
     "tableResultSettingsMap": {},
     "title": ""
    }
   },
   "outputs": [],
   "source": [
    "%sql\n",
    "--Creating order_items table\n",
    "\n",
    "CREATE TABLE IF NOT EXISTS Datax.Order_Items (\n",
    "    order_item_id BIGINT GENERATED ALWAYS AS IDENTITY PRIMARY KEY,\n",
    "    order_id BIGINT NOT NULL,\n",
    "    product_id BIGINT NOT NULL,\n",
    "    quantity INT NOT NULL,\n",
    "    unit_price DECIMAL(10,2) NOT NULL,\n",
    "    subtotal DECIMAL(10,2),\n",
    "    FOREIGN KEY (order_id) REFERENCES Datax.Orders(order_id),\n",
    "    FOREIGN KEY (product_id) REFERENCES Datax.Products(product_id)\n",
    ");\n"
   ]
  },
  {
   "cell_type": "code",
   "execution_count": 0,
   "metadata": {
    "application/vnd.databricks.v1+cell": {
     "cellMetadata": {
      "byteLimit": 2048000,
      "implicitDf": true,
      "rowLimit": 10000
     },
     "inputWidgets": {},
     "nuid": "fcb54b97-4530-4ee6-b2b0-c389bfa79775",
     "showTitle": false,
     "tableResultSettingsMap": {},
     "title": ""
    }
   },
   "outputs": [],
   "source": [
    "%sql\n",
    "INSERT INTO Datax.Customers (first_name, last_name, email, phone, address, city, state, country, created_at) VALUES\n",
    "('John', 'Doe', 'john.doe@example.com', '9876543210', '123 Main St', 'Delhi', 'Delhi', 'India', '2023-01-15 10:00:00'),\n",
    "('Jane', 'Smith', 'jane.smith@example.com', '9876543211', '45 Park Lane', 'Mumbai', 'Maharashtra', 'India', '2023-02-10 14:30:00'),\n",
    "('Raj', 'Kumar', 'raj.kumar@example.com', '9876543212', '77 MG Road', 'Bangalore', 'Karnataka', 'India', '2023-03-05 16:00:00'),\n",
    "('Priya', 'Sharma', 'priya.sharma@example.com', '9876543213', '56 Anna Salai', 'Chennai', 'Tamil Nadu', 'India', '2023-03-20 09:15:00'),\n",
    "('Amit', 'Patel', 'amit.patel@example.com', '9876543214', '22 SG Highway', 'Ahmedabad', 'Gujarat', 'India', '2023-04-12 11:45:00'),\n",
    "('Sara', 'Ali', 'sara.ali@example.com', '9876543215', '88 Residency Road', 'Hyderabad', 'Telangana', 'India', '2023-05-08 13:20:00'),\n",
    "('Vikram', 'Singh', 'vikram.singh@example.com', '9876543216', '12 Civil Lines', 'Lucknow', 'Uttar Pradesh', 'India', '2023-06-01 15:00:00'),\n",
    "('Anita', 'Desai', 'anita.desai@example.com', '9876543217', '33 FC Road', 'Pune', 'Maharashtra', 'India', '2023-06-25 17:30:00'),\n",
    "('Ravi', 'Nair', 'ravi.nair@example.com', '9876543218', '9 Marine Drive', 'Kochi', 'Kerala', 'India', '2023-07-10 18:45:00'),\n",
    "('Meena', 'Reddy', 'meena.reddy@example.com', '9876543219', '44 Banjara Hills', 'Hyderabad', 'Telangana', 'India', '2023-07-28 20:10:00');\n"
   ]
  },
  {
   "cell_type": "code",
   "execution_count": 0,
   "metadata": {
    "application/vnd.databricks.v1+cell": {
     "cellMetadata": {
      "byteLimit": 2048000,
      "implicitDf": true,
      "rowLimit": 10000
     },
     "inputWidgets": {},
     "nuid": "a6908c88-d1b9-4e81-9cda-2c2eb0289e70",
     "showTitle": false,
     "tableResultSettingsMap": {},
     "title": ""
    }
   },
   "outputs": [],
   "source": [
    "%sql\n",
    "INSERT INTO Datax.Categories (category_name, description) VALUES\n",
    "('Electronics', 'Devices and gadgets including mobiles, laptops, and accessories'),\n",
    "('Clothing', 'Apparel for men, women, and kids'),\n",
    "('Home & Kitchen', 'Household items, appliances, and kitchen essentials');\n"
   ]
  },
  {
   "cell_type": "code",
   "execution_count": 0,
   "metadata": {
    "application/vnd.databricks.v1+cell": {
     "cellMetadata": {
      "byteLimit": 2048000,
      "implicitDf": true,
      "rowLimit": 10000
     },
     "inputWidgets": {},
     "nuid": "f7a1f1e7-beb9-4503-a802-7d52671a6d09",
     "showTitle": false,
     "tableResultSettingsMap": {},
     "title": ""
    }
   },
   "outputs": [],
   "source": [
    "%sql\n",
    "INSERT INTO Datax.Products (product_name, category_id, price, stock_quantity, created_at) VALUES\n",
    "('iPhone 14', 1, 79999, 50, '2023-01-10 12:00:00'),\n",
    "('Samsung Galaxy S23', 1, 74999, 40, '2023-02-05 11:00:00'),\n",
    "('HP Laptop', 1, 55999, 30, '2023-02-25 09:30:00'),\n",
    "('Men T-Shirt', 2, 999, 200, '2023-03-15 10:45:00'),\n",
    "('Women Jeans', 2, 1999, 150, '2023-04-05 14:20:00'),\n",
    "('Kids Jacket', 2, 1499, 120, '2023-05-01 16:00:00'),\n",
    "('Mixer Grinder', 3, 3499, 80, '2023-05-20 13:15:00'),\n",
    "('Microwave Oven', 3, 8999, 60, '2023-06-12 17:45:00'),\n",
    "('Dinner Set', 3, 2499, 100, '2023-07-02 19:30:00'),\n",
    "('Ceiling Fan', 3, 2999, 90, '2023-07-22 20:50:00');\n"
   ]
  },
  {
   "cell_type": "code",
   "execution_count": 0,
   "metadata": {
    "application/vnd.databricks.v1+cell": {
     "cellMetadata": {
      "byteLimit": 2048000,
      "implicitDf": true,
      "rowLimit": 10000
     },
     "inputWidgets": {},
     "nuid": "4271f1d6-ddbb-46eb-a501-8eceb178a207",
     "showTitle": false,
     "tableResultSettingsMap": {},
     "title": ""
    }
   },
   "outputs": [],
   "source": [
    "%sql\n",
    "INSERT INTO Datax.Orders (customer_id, order_date, status, total_amount) VALUES\n",
    "(1, '2023-08-01 10:00:00', 'Placed', 79999),\n",
    "(2, '2023-08-02 12:15:00', 'Shipped', 74999),\n",
    "(3, '2023-08-03 14:30:00', 'Delivered', 55999),\n",
    "(4, '2023-08-04 15:45:00', 'Placed', 2998),\n",
    "(5, '2023-08-05 17:00:00', 'Shipped', 3499),\n",
    "(6, '2023-08-06 18:20:00', 'Delivered', 8999),\n",
    "(7, '2023-08-07 19:35:00', 'Placed', 2499),\n",
    "(8, '2023-08-08 20:50:00', 'Shipped', 1999),\n",
    "(9, '2023-08-09 21:10:00', 'Delivered', 1499),\n",
    "(10, '2023-08-10 22:25:00', 'Placed', 2999);\n"
   ]
  },
  {
   "cell_type": "code",
   "execution_count": 0,
   "metadata": {
    "application/vnd.databricks.v1+cell": {
     "cellMetadata": {
      "byteLimit": 2048000,
      "implicitDf": true,
      "rowLimit": 10000
     },
     "inputWidgets": {},
     "nuid": "3907badf-b9e0-42a4-a5e2-fb3d8427ef5f",
     "showTitle": false,
     "tableResultSettingsMap": {},
     "title": ""
    }
   },
   "outputs": [],
   "source": [
    "%sql\n",
    "INSERT INTO Datax.Order_Items (order_id, product_id, quantity, unit_price) VALUES\n",
    "(1, 1, 1, 79999),\n",
    "(2, 2, 1, 74999),\n",
    "(3, 3, 1, 55999),\n",
    "(4, 4, 2, 999),\n",
    "(5, 7, 1, 3499),\n",
    "(6, 8, 1, 8999),\n",
    "(7, 9, 1, 2499),\n",
    "(8, 5, 1, 1999),\n",
    "(9, 6, 1, 1499),\n",
    "(10, 10, 1, 2999),\n",
    "(4, 5, 1, 1999),\n",
    "(5, 10, 1, 2999),\n",
    "(6, 7, 2, 3499),\n",
    "(7, 8, 1, 8999),\n",
    "(8, 4, 2, 999),\n",
    "(9, 9, 1, 2499),\n",
    "(10, 3, 1, 55999),\n",
    "(1, 7, 1, 3499),\n",
    "(2, 8, 1, 8999),\n",
    "(3, 9, 1, 2499),\n",
    "(4, 10, 1, 2999),\n",
    "(5, 1, 1, 79999),\n",
    "(6, 2, 1, 74999),\n",
    "(7, 3, 1, 55999),\n",
    "(8, 4, 1, 999),\n",
    "(9, 5, 1, 1999),\n",
    "(10, 6, 1, 1499),\n",
    "(1, 2, 1, 74999),\n",
    "(2, 3, 1, 55999),\n",
    "(3, 4, 1, 999);\n"
   ]
  },
  {
   "cell_type": "code",
   "execution_count": 0,
   "metadata": {
    "application/vnd.databricks.v1+cell": {
     "cellMetadata": {
      "byteLimit": 2048000,
      "implicitDf": true,
      "rowLimit": 10000
     },
     "inputWidgets": {},
     "nuid": "4207cb5c-e15c-44c4-b032-4541c49b0bf4",
     "showTitle": false,
     "tableResultSettingsMap": {},
     "title": ""
    }
   },
   "outputs": [],
   "source": [
    "%sql\n",
    "SELECT * FROM Datax.Customers LIMIT 5;\n",
    "SELECT * FROM Datax.Orders LIMIT 5;\n",
    "SELECT * FROM Datax.Products LIMIT 5;\n",
    "SELECT * FROM Datax.Order_Items LIMIT 5;\n"
   ]
  },
  {
   "cell_type": "code",
   "execution_count": 0,
   "metadata": {
    "application/vnd.databricks.v1+cell": {
     "cellMetadata": {
      "byteLimit": 2048000,
      "implicitDf": true,
      "rowLimit": 10000
     },
     "inputWidgets": {},
     "nuid": "ea9f46c8-e22d-411f-88a0-3bc15191578d",
     "showTitle": false,
     "tableResultSettingsMap": {},
     "title": ""
    }
   },
   "outputs": [],
   "source": [
    "%sql\n",
    "\n",
    "--Get all orders with customer details:\n",
    "\n",
    "SELECT o.order_id, o.order_date, o.status, c.first_name, c.last_name, c.email\n",
    "FROM Datax.Orders o\n",
    "JOIN Datax.Customers c ON o.customer_id = c.customer_id;\n"
   ]
  },
  {
   "cell_type": "code",
   "execution_count": 0,
   "metadata": {
    "application/vnd.databricks.v1+cell": {
     "cellMetadata": {
      "byteLimit": 2048000,
      "implicitDf": true,
      "rowLimit": 10000
     },
     "inputWidgets": {},
     "nuid": "d191b72a-2543-4dd8-9e9c-d23d3eb8632a",
     "showTitle": false,
     "tableResultSettingsMap": {},
     "title": ""
    }
   },
   "outputs": [],
   "source": [
    "%sql\n",
    "--Show each order with product details:\n",
    "\n",
    "SELECT oi.order_item_id, o.order_id, c.first_name, p.product_name, oi.quantity, oi.unit_price, o.status\n",
    "FROM Datax.Order_Items oi\n",
    "JOIN Datax.Orders o ON oi.order_id = o.order_id\n",
    "JOIN Datax.Customers c ON o.customer_id = c.customer_id\n",
    "JOIN Datax.Products p ON oi.product_id = p.product_id;\n"
   ]
  },
  {
   "cell_type": "code",
   "execution_count": 0,
   "metadata": {
    "application/vnd.databricks.v1+cell": {
     "cellMetadata": {
      "byteLimit": 2048000,
      "implicitDf": true,
      "rowLimit": 10000
     },
     "inputWidgets": {},
     "nuid": "881e7b06-9d48-4be8-95a7-cd235743758b",
     "showTitle": false,
     "tableResultSettingsMap": {},
     "title": ""
    }
   },
   "outputs": [],
   "source": [
    "%sql\n",
    "--Sales by category:\n",
    "\n",
    "SELECT cat.category_name, SUM(oi.quantity * oi.unit_price) AS total_sales\n",
    "FROM Datax.Order_Items oi\n",
    "JOIN Datax.Products p ON oi.product_id = p.product_id\n",
    "JOIN Datax.Categories cat ON p.category_id = cat.category_id\n",
    "GROUP BY cat.category_name\n",
    "ORDER BY total_sales DESC;\n"
   ]
  },
  {
   "cell_type": "code",
   "execution_count": 0,
   "metadata": {
    "application/vnd.databricks.v1+cell": {
     "cellMetadata": {
      "byteLimit": 2048000,
      "implicitDf": true,
      "rowLimit": 10000
     },
     "inputWidgets": {},
     "nuid": "a8f244d4-ff40-45af-a0c6-68807eb554a1",
     "showTitle": false,
     "tableResultSettingsMap": {},
     "title": ""
    }
   },
   "outputs": [],
   "source": [
    "%sql\n",
    "--Top 5 customers by total spending\n",
    "\n",
    "SELECT c.customer_id,\n",
    "       c.first_name,\n",
    "       c.last_name,\n",
    "       SUM(oi.quantity * oi.unit_price) AS total_spent\n",
    "FROM Datax.Customers c\n",
    "JOIN Datax.Orders o ON c.customer_id = o.customer_id\n",
    "JOIN Datax.Order_Items oi ON o.order_id = oi.order_id\n",
    "GROUP BY c.customer_id, c.first_name, c.last_name\n",
    "ORDER BY total_spent DESC\n",
    "LIMIT 5;\n"
   ]
  },
  {
   "cell_type": "code",
   "execution_count": 0,
   "metadata": {
    "application/vnd.databricks.v1+cell": {
     "cellMetadata": {
      "byteLimit": 2048000,
      "implicitDf": true,
      "rowLimit": 10000
     },
     "inputWidgets": {},
     "nuid": "17f41abf-eb0b-4c9b-83a2-a6d432e20f6d",
     "showTitle": false,
     "tableResultSettingsMap": {},
     "title": ""
    }
   },
   "outputs": [],
   "source": [
    "%sql\n",
    "--Most sold product by quantity\n",
    "\n",
    "SELECT p.product_id,\n",
    "       p.product_name,\n",
    "       SUM(oi.quantity) AS total_quantity_sold\n",
    "FROM Datax.Products p\n",
    "JOIN Datax.Order_Items oi ON p.product_id = oi.product_id\n",
    "GROUP BY p.product_id, p.product_name\n",
    "ORDER BY total_quantity_sold DESC\n",
    "LIMIT 1;\n"
   ]
  },
  {
   "cell_type": "code",
   "execution_count": 0,
   "metadata": {
    "application/vnd.databricks.v1+cell": {
     "cellMetadata": {
      "byteLimit": 2048000,
      "implicitDf": true,
      "rowLimit": 10000
     },
     "inputWidgets": {},
     "nuid": "03568bf7-0117-4be8-996a-b29927a1c6f1",
     "showTitle": false,
     "tableResultSettingsMap": {},
     "title": ""
    }
   },
   "outputs": [],
   "source": [
    "%sql\n",
    "--Orders still pending delivery\n",
    "\n",
    "SELECT o.order_id,\n",
    "       o.customer_id,\n",
    "       o.status,\n",
    "       o.order_date\n",
    "FROM Datax.Orders o\n",
    "WHERE o.status <> 'delivered';\n"
   ]
  },
  {
   "cell_type": "code",
   "execution_count": 0,
   "metadata": {
    "application/vnd.databricks.v1+cell": {
     "cellMetadata": {
      "byteLimit": 2048000,
      "implicitDf": true,
      "rowLimit": 10000
     },
     "inputWidgets": {},
     "nuid": "66a10a1e-523d-4e8c-aa79-484cf6b01738",
     "showTitle": false,
     "tableResultSettingsMap": {},
     "title": ""
    }
   },
   "outputs": [],
   "source": [
    "%sql\n",
    "--Revenue trend by month\n",
    "\n",
    "SELECT DATE_FORMAT(o.order_date, 'yyyy-MM') AS month,\n",
    "       SUM(oi.quantity * oi.unit_price) AS total_revenue\n",
    "FROM Datax.Orders o\n",
    "JOIN Datax.Order_Items oi ON o.order_id = oi.order_id\n",
    "GROUP BY DATE_FORMAT(o.order_date, 'yyyy-MM')\n",
    "ORDER BY month;\n"
   ]
  },
  {
   "cell_type": "markdown",
   "metadata": {
    "application/vnd.databricks.v1+cell": {
     "cellMetadata": {},
     "inputWidgets": {},
     "nuid": "3ba82162-1516-488d-9627-a0448ff2116d",
     "showTitle": false,
     "tableResultSettingsMap": {},
     "title": ""
    }
   },
   "source": [
    "# Reusable SQL Queries (direct insights)"
   ]
  },
  {
   "cell_type": "code",
   "execution_count": 0,
   "metadata": {
    "application/vnd.databricks.v1+cell": {
     "cellMetadata": {
      "byteLimit": 2048000,
      "implicitDf": true,
      "rowLimit": 10000
     },
     "inputWidgets": {},
     "nuid": "d1958012-2f67-4aa8-bf1c-b971e8c9fb4a",
     "showTitle": false,
     "tableResultSettingsMap": {},
     "title": ""
    }
   },
   "outputs": [],
   "source": [
    "%sql\n",
    "-- Top 5 customers by total spending\n",
    "\n",
    "SELECT \n",
    "    c.customer_id,\n",
    "    CONCAT(c.first_name, ' ', c.last_name) AS customer_name,\n",
    "    SUM(oi.quantity * oi.unit_price) AS total_spent\n",
    "FROM orders o\n",
    "JOIN customers c ON o.customer_id = c.customer_id\n",
    "JOIN order_items oi ON o.order_id = oi.order_id\n",
    "GROUP BY c.customer_id, c.first_name, c.last_name\n",
    "ORDER BY total_spent DESC\n",
    "LIMIT 5;\n"
   ]
  },
  {
   "cell_type": "code",
   "execution_count": 0,
   "metadata": {
    "application/vnd.databricks.v1+cell": {
     "cellMetadata": {
      "byteLimit": 2048000,
      "implicitDf": true,
      "rowLimit": 10000
     },
     "inputWidgets": {},
     "nuid": "17e9dbb9-d107-43ea-8e47-bb2df425b5c9",
     "showTitle": false,
     "tableResultSettingsMap": {},
     "title": ""
    }
   },
   "outputs": [],
   "source": [
    "%sql\n",
    "-- Most sold product by quantity\n",
    "\n",
    "SELECT \n",
    "    p.product_id,\n",
    "    p.product_name,\n",
    "    SUM(oi.quantity) AS total_quantity_sold\n",
    "FROM order_items oi\n",
    "JOIN products p ON oi.product_id = p.product_id\n",
    "GROUP BY p.product_id, p.product_name\n",
    "ORDER BY total_quantity_sold DESC\n",
    "LIMIT 1;\n"
   ]
  },
  {
   "cell_type": "code",
   "execution_count": 0,
   "metadata": {
    "application/vnd.databricks.v1+cell": {
     "cellMetadata": {
      "byteLimit": 2048000,
      "implicitDf": true,
      "rowLimit": 10000
     },
     "inputWidgets": {},
     "nuid": "7ad1a625-a540-4429-b7ff-2c61ccbe258e",
     "showTitle": false,
     "tableResultSettingsMap": {},
     "title": ""
    }
   },
   "outputs": [],
   "source": [
    "%sql\n",
    "--Orders still pending delivery \n",
    "\n",
    "SELECT \n",
    "    o.order_id,\n",
    "    o.order_date,\n",
    "    c.first_name,\n",
    "    c.last_name,\n",
    "    o.status\n",
    "FROM orders o\n",
    "JOIN customers c ON o.customer_id = c.customer_id\n",
    "WHERE o.status != 'delivered';\n"
   ]
  },
  {
   "cell_type": "code",
   "execution_count": 0,
   "metadata": {
    "application/vnd.databricks.v1+cell": {
     "cellMetadata": {
      "byteLimit": 2048000,
      "implicitDf": true,
      "rowLimit": 10000
     },
     "inputWidgets": {},
     "nuid": "4e05fb66-5f21-48cf-867e-70f4fc533341",
     "showTitle": false,
     "tableResultSettingsMap": {},
     "title": ""
    }
   },
   "outputs": [],
   "source": [
    "%sql\n",
    "-- Revenue trend by month\n",
    "\n",
    "SELECT \n",
    "    DATE_FORMAT(o.order_date, 'yyyy-MM') AS month,\n",
    "    SUM(oi.quantity * oi.unit_price) AS monthly_revenue\n",
    "FROM orders o\n",
    "JOIN order_items oi ON o.order_id = oi.order_id\n",
    "GROUP BY DATE_FORMAT(o.order_date, 'yyyy-MM')\n",
    "ORDER BY month;\n"
   ]
  }
 ],
 "metadata": {
  "application/vnd.databricks.v1+notebook": {
   "computePreferences": null,
   "dashboards": [],
   "environmentMetadata": {
    "base_environment": "",
    "environment_version": "3"
   },
   "inputWidgetPreferences": null,
   "language": "python",
   "notebookMetadata": {
    "mostRecentlyExecutedCommandWithImplicitDF": {
     "commandId": 6037063364066329,
     "dataframes": [
      "_sqldf"
     ]
    },
    "pythonIndentUnit": 4
   },
   "notebookName": "E-Commerce-Platform-Data-Model",
   "widgets": {}
  },
  "language_info": {
   "name": "python"
  }
 },
 "nbformat": 4,
 "nbformat_minor": 0
}
